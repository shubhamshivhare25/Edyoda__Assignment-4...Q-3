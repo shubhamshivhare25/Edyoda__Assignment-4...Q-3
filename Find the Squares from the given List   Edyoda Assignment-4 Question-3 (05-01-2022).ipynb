{
 "cells": [
  {
   "cell_type": "markdown",
   "metadata": {},
   "source": [
    "## Write a Python program to square the elements of a list using map() function."
   ]
  },
  {
   "cell_type": "code",
   "execution_count": null,
   "metadata": {},
   "outputs": [],
   "source": []
  },
  {
   "cell_type": "code",
   "execution_count": 7,
   "metadata": {},
   "outputs": [
    {
     "name": "stdout",
     "output_type": "stream",
     "text": [
      "Original List (4, 5, 2, 9) \n",
      "Square of given List [16, 25, 4, 81]\n"
     ]
    }
   ],
   "source": [
    "def Squ_lst(i):\n",
    "    return i*i\n",
    "lst = (4, 5, 2, 9)\n",
    "\n",
    "s_lst = map(Squ_lst, lst)\n",
    "\n",
    "print(\"Original List\", lst, \"\\nSquare of given List\", list(s_lst))"
   ]
  },
  {
   "cell_type": "code",
   "execution_count": null,
   "metadata": {},
   "outputs": [],
   "source": []
  }
 ],
 "metadata": {
  "kernelspec": {
   "display_name": "Python 3",
   "language": "python",
   "name": "python3"
  },
  "language_info": {
   "codemirror_mode": {
    "name": "ipython",
    "version": 3
   },
   "file_extension": ".py",
   "mimetype": "text/x-python",
   "name": "python",
   "nbconvert_exporter": "python",
   "pygments_lexer": "ipython3",
   "version": "3.8.5"
  }
 },
 "nbformat": 4,
 "nbformat_minor": 4
}
